{
 "cells": [
  {
   "cell_type": "markdown",
   "metadata": {},
   "source": [
    "## MLOps using MLFlow\n",
    "\n",
    "MLOps, short for Machine Learning Operations, is a set of practices designed to create an assembly line for building and running machine learning models. It combines the principles of DevOps with the intricacies of machine learning.\n",
    "\n",
    "MLOps aims to automate tasks, deploy models swiftly, and ensure smooth collaboration among data scientists, engineers, and IT professionals."
   ]
  },
  {
   "cell_type": "code",
   "execution_count": 1,
   "metadata": {},
   "outputs": [
    {
     "name": "stdout",
     "output_type": "stream",
     "text": [
      "/bin/bash: /home/mjanuadi/anaconda3/envs/image-dl/lib/libtinfo.so.6: no version information available (required by /bin/bash)\n",
      "Name: mlflow\n",
      "Version: 2.12.1\n",
      "Summary: MLflow is an open source platform for the complete machine learning lifecycle\n",
      "Home-page: \n",
      "Author: \n",
      "Author-email: \n",
      "License: Copyright 2018 Databricks, Inc.  All rights reserved.\n",
      "        \n",
      "                                        Apache License\n",
      "                                   Version 2.0, January 2004\n",
      "                                http://www.apache.org/licenses/\n",
      "        \n",
      "           TERMS AND CONDITIONS FOR USE, REPRODUCTION, AND DISTRIBUTION\n",
      "        \n",
      "           1. Definitions.\n",
      "        \n",
      "              \"License\" shall mean the terms and conditions for use, reproduction,\n",
      "              and distribution as defined by Sections 1 through 9 of this document.\n",
      "        \n",
      "              \"Licensor\" shall mean the copyright owner or entity authorized by\n",
      "              the copyright owner that is granting the License.\n",
      "        \n",
      "              \"Legal Entity\" shall mean the union of the acting entity and all\n",
      "              other entities that control, are controlled by, or are under common\n",
      "              control with that entity. For the purposes of this definition,\n",
      "              \"control\" means (i) the power, direct or indirect, to cause the\n",
      "              direction or management of such entity, whether by contract or\n",
      "              otherwise, or (ii) ownership of fifty percent (50%) or more of the\n",
      "              outstanding shares, or (iii) beneficial ownership of such entity.\n",
      "        \n",
      "              \"You\" (or \"Your\") shall mean an individual or Legal Entity\n",
      "              exercising permissions granted by this License.\n",
      "        \n",
      "              \"Source\" form shall mean the preferred form for making modifications,\n",
      "              including but not limited to software source code, documentation\n",
      "              source, and configuration files.\n",
      "        \n",
      "              \"Object\" form shall mean any form resulting from mechanical\n",
      "              transformation or translation of a Source form, including but\n",
      "              not limited to compiled object code, generated documentation,\n",
      "              and conversions to other media types.\n",
      "        \n",
      "              \"Work\" shall mean the work of authorship, whether in Source or\n",
      "              Object form, made available under the License, as indicated by a\n",
      "              copyright notice that is included in or attached to the work\n",
      "              (an example is provided in the Appendix below).\n",
      "        \n",
      "              \"Derivative Works\" shall mean any work, whether in Source or Object\n",
      "              form, that is based on (or derived from) the Work and for which the\n",
      "              editorial revisions, annotations, elaborations, or other modifications\n",
      "              represent, as a whole, an original work of authorship. For the purposes\n",
      "              of this License, Derivative Works shall not include works that remain\n",
      "              separable from, or merely link (or bind by name) to the interfaces of,\n",
      "              the Work and Derivative Works thereof.\n",
      "        \n",
      "              \"Contribution\" shall mean any work of authorship, including\n",
      "              the original version of the Work and any modifications or additions\n",
      "              to that Work or Derivative Works thereof, that is intentionally\n",
      "              submitted to Licensor for inclusion in the Work by the copyright owner\n",
      "              or by an individual or Legal Entity authorized to submit on behalf of\n",
      "              the copyright owner. For the purposes of this definition, \"submitted\"\n",
      "              means any form of electronic, verbal, or written communication sent\n",
      "              to the Licensor or its representatives, including but not limited to\n",
      "              communication on electronic mailing lists, source code control systems,\n",
      "              and issue tracking systems that are managed by, or on behalf of, the\n",
      "              Licensor for the purpose of discussing and improving the Work, but\n",
      "              excluding communication that is conspicuously marked or otherwise\n",
      "              designated in writing by the copyright owner as \"Not a Contribution.\"\n",
      "        \n",
      "              \"Contributor\" shall mean Licensor and any individual or Legal Entity\n",
      "              on behalf of whom a Contribution has been received by Licensor and\n",
      "              subsequently incorporated within the Work.\n",
      "        \n",
      "           2. Grant of Copyright License. Subject to the terms and conditions of\n",
      "              this License, each Contributor hereby grants to You a perpetual,\n",
      "              worldwide, non-exclusive, no-charge, royalty-free, irrevocable\n",
      "              copyright license to reproduce, prepare Derivative Works of,\n",
      "              publicly display, publicly perform, sublicense, and distribute the\n",
      "              Work and such Derivative Works in Source or Object form.\n",
      "        \n",
      "           3. Grant of Patent License. Subject to the terms and conditions of\n",
      "              this License, each Contributor hereby grants to You a perpetual,\n",
      "              worldwide, non-exclusive, no-charge, royalty-free, irrevocable\n",
      "              (except as stated in this section) patent license to make, have made,\n",
      "              use, offer to sell, sell, import, and otherwise transfer the Work,\n",
      "              where such license applies only to those patent claims licensable\n",
      "              by such Contributor that are necessarily infringed by their\n",
      "              Contribution(s) alone or by combination of their Contribution(s)\n",
      "              with the Work to which such Contribution(s) was submitted. If You\n",
      "              institute patent litigation against any entity (including a\n",
      "              cross-claim or counterclaim in a lawsuit) alleging that the Work\n",
      "              or a Contribution incorporated within the Work constitutes direct\n",
      "              or contributory patent infringement, then any patent licenses\n",
      "              granted to You under this License for that Work shall terminate\n",
      "              as of the date such litigation is filed.\n",
      "        \n",
      "           4. Redistribution. You may reproduce and distribute copies of the\n",
      "              Work or Derivative Works thereof in any medium, with or without\n",
      "              modifications, and in Source or Object form, provided that You\n",
      "              meet the following conditions:\n",
      "        \n",
      "              (a) You must give any other recipients of the Work or\n",
      "                  Derivative Works a copy of this License; and\n",
      "        \n",
      "              (b) You must cause any modified files to carry prominent notices\n",
      "                  stating that You changed the files; and\n",
      "        \n",
      "              (c) You must retain, in the Source form of any Derivative Works\n",
      "                  that You distribute, all copyright, patent, trademark, and\n",
      "                  attribution notices from the Source form of the Work,\n",
      "                  excluding those notices that do not pertain to any part of\n",
      "                  the Derivative Works; and\n",
      "        \n",
      "              (d) If the Work includes a \"NOTICE\" text file as part of its\n",
      "                  distribution, then any Derivative Works that You distribute must\n",
      "                  include a readable copy of the attribution notices contained\n",
      "                  within such NOTICE file, excluding those notices that do not\n",
      "                  pertain to any part of the Derivative Works, in at least one\n",
      "                  of the following places: within a NOTICE text file distributed\n",
      "                  as part of the Derivative Works; within the Source form or\n",
      "                  documentation, if provided along with the Derivative Works; or,\n",
      "                  within a display generated by the Derivative Works, if and\n",
      "                  wherever such third-party notices normally appear. The contents\n",
      "                  of the NOTICE file are for informational purposes only and\n",
      "                  do not modify the License. You may add Your own attribution\n",
      "                  notices within Derivative Works that You distribute, alongside\n",
      "                  or as an addendum to the NOTICE text from the Work, provided\n",
      "                  that such additional attribution notices cannot be construed\n",
      "                  as modifying the License.\n",
      "        \n",
      "              You may add Your own copyright statement to Your modifications and\n",
      "              may provide additional or different license terms and conditions\n",
      "              for use, reproduction, or distribution of Your modifications, or\n",
      "              for any such Derivative Works as a whole, provided Your use,\n",
      "              reproduction, and distribution of the Work otherwise complies with\n",
      "              the conditions stated in this License.\n",
      "        \n",
      "           5. Submission of Contributions. Unless You explicitly state otherwise,\n",
      "              any Contribution intentionally submitted for inclusion in the Work\n",
      "              by You to the Licensor shall be under the terms and conditions of\n",
      "              this License, without any additional terms or conditions.\n",
      "              Notwithstanding the above, nothing herein shall supersede or modify\n",
      "              the terms of any separate license agreement you may have executed\n",
      "              with Licensor regarding such Contributions.\n",
      "        \n",
      "           6. Trademarks. This License does not grant permission to use the trade\n",
      "              names, trademarks, service marks, or product names of the Licensor,\n",
      "              except as required for reasonable and customary use in describing the\n",
      "              origin of the Work and reproducing the content of the NOTICE file.\n",
      "        \n",
      "           7. Disclaimer of Warranty. Unless required by applicable law or\n",
      "              agreed to in writing, Licensor provides the Work (and each\n",
      "              Contributor provides its Contributions) on an \"AS IS\" BASIS,\n",
      "              WITHOUT WARRANTIES OR CONDITIONS OF ANY KIND, either express or\n",
      "              implied, including, without limitation, any warranties or conditions\n",
      "              of TITLE, NON-INFRINGEMENT, MERCHANTABILITY, or FITNESS FOR A\n",
      "              PARTICULAR PURPOSE. You are solely responsible for determining the\n",
      "              appropriateness of using or redistributing the Work and assume any\n",
      "              risks associated with Your exercise of permissions under this License.\n",
      "        \n",
      "           8. Limitation of Liability. In no event and under no legal theory,\n",
      "              whether in tort (including negligence), contract, or otherwise,\n",
      "              unless required by applicable law (such as deliberate and grossly\n",
      "              negligent acts) or agreed to in writing, shall any Contributor be\n",
      "              liable to You for damages, including any direct, indirect, special,\n",
      "              incidental, or consequential damages of any character arising as a\n",
      "              result of this License or out of the use or inability to use the\n",
      "              Work (including but not limited to damages for loss of goodwill,\n",
      "              work stoppage, computer failure or malfunction, or any and all\n",
      "              other commercial damages or losses), even if such Contributor\n",
      "              has been advised of the possibility of such damages.\n",
      "        \n",
      "           9. Accepting Warranty or Additional Liability. While redistributing\n",
      "              the Work or Derivative Works thereof, You may choose to offer,\n",
      "              and charge a fee for, acceptance of support, warranty, indemnity,\n",
      "              or other liability obligations and/or rights consistent with this\n",
      "              License. However, in accepting such obligations, You may act only\n",
      "              on Your own behalf and on Your sole responsibility, not on behalf\n",
      "              of any other Contributor, and only if You agree to indemnify,\n",
      "              defend, and hold each Contributor harmless for any liability\n",
      "              incurred by, or claims asserted against, such Contributor by reason\n",
      "              of your accepting any such warranty or additional liability.\n",
      "        \n",
      "           END OF TERMS AND CONDITIONS\n",
      "           APPENDIX: How to apply the Apache License to your work.\n",
      "        \n",
      "              To apply the Apache License to your work, attach the following\n",
      "              boilerplate notice, with the fields enclosed by brackets \"[]\"\n",
      "              replaced with your own identifying information. (Don't include\n",
      "              the brackets!)  The text should be enclosed in the appropriate\n",
      "              comment syntax for the file format. We also recommend that a\n",
      "              file or class name and description of purpose be included on the\n",
      "              same \"printed page\" as the copyright notice for easier\n",
      "              identification within third-party archives.\n",
      "        \n",
      "           Copyright [yyyy] [name of copyright owner]\n",
      "        \n",
      "           Licensed under the Apache License, Version 2.0 (the \"License\");\n",
      "           you may not use this file except in compliance with the License.\n",
      "           You may obtain a copy of the License at\n",
      "        \n",
      "               http://www.apache.org/licenses/LICENSE-2.0\n",
      "        \n",
      "           Unless required by applicable law or agreed to in writing, software\n",
      "           distributed under the License is distributed on an \"AS IS\" BASIS,\n",
      "           WITHOUT WARRANTIES OR CONDITIONS OF ANY KIND, either express or implied.\n",
      "           See the License for the specific language governing permissions and\n",
      "           limitations under the License.\n",
      "        \n",
      "Location: /home/mjanuadi/anaconda3/envs/image-dl/lib/python3.9/site-packages\n",
      "Requires: alembic, click, cloudpickle, docker, entrypoints, Flask, gitpython, graphene, gunicorn, importlib-metadata, Jinja2, markdown, matplotlib, numpy, packaging, pandas, protobuf, pyarrow, pytz, pyyaml, querystring-parser, requests, scikit-learn, scipy, sqlalchemy, sqlparse\n",
      "Required-by: \n",
      "Note: you may need to restart the kernel to use updated packages.\n"
     ]
    }
   ],
   "source": [
    "pip show mlflow"
   ]
  },
  {
   "cell_type": "code",
   "execution_count": 2,
   "metadata": {},
   "outputs": [
    {
     "name": "stdout",
     "output_type": "stream",
     "text": [
      "/bin/bash: /home/mjanuadi/anaconda3/envs/image-dl/lib/libtinfo.so.6: no version information available (required by /bin/bash)\n",
      "mlflow, version 2.12.1\n"
     ]
    }
   ],
   "source": [
    "!mlflow --version"
   ]
  },
  {
   "cell_type": "markdown",
   "metadata": {},
   "source": [
    "### Load Model And Test to Test Dataset\n",
    "\n",
    "Let's load our model using pickle and the dataset once more to test the MLOps."
   ]
  },
  {
   "cell_type": "code",
   "execution_count": 3,
   "metadata": {},
   "outputs": [],
   "source": [
    "# Let's import our model\n",
    "\n",
    "import pickle\n",
    "\n",
    "model = pickle.load(open(\"model_selected.pkl\", \"rb\"))"
   ]
  },
  {
   "cell_type": "code",
   "execution_count": 4,
   "metadata": {},
   "outputs": [],
   "source": [
    "# Create a function to return metrics of our model\n",
    "\n",
    "def get_metrics(y_true, y_pred):\n",
    "    from sklearn.metrics import accuracy_score, precision_score, recall_score\n",
    "    acc = accuracy_score(y_true, y_pred)\n",
    "    prec = precision_score(y_true, y_pred, average='micro')\n",
    "    recall = recall_score(y_true, y_pred, average='micro')\n",
    "    return {'accuracy' : round(acc, 2), 'precision': round(prec, 2), 'recall': round(recall, 2)}\n"
   ]
  },
  {
   "cell_type": "code",
   "execution_count": 5,
   "metadata": {},
   "outputs": [],
   "source": [
    "def prepare_X_y_test(data_url):\n",
    "    import pandas as pd\n",
    "    from sklearn.model_selection import train_test_split\n",
    "    from sklearn.preprocessing import StandardScaler\n",
    "    import numpy as np\n",
    "\n",
    "    scaler = StandardScaler()\n",
    "\n",
    "    data = pd.read_csv(data_url)\n",
    "    X = data.drop(columns= ['id', 'Class'])\n",
    "    y = data['Class']\n",
    "    X_train, X_test, y_train, y_test = train_test_split(X, y, test_size=0.1, random_state =42)\n",
    "    # X_test = np.array(X_test)\n",
    "    # X_test = X_test.reshape(1,-1)\n",
    "    # X_test = scaler.fit_transform(X_test)\n",
    "\n",
    "    return X_test, y_test\n",
    "\n"
   ]
  },
  {
   "cell_type": "code",
   "execution_count": 6,
   "metadata": {},
   "outputs": [],
   "source": [
    "data_url = '/home/mjanuadi/MLDeploy_Flask/data/riceClassification.csv'\n",
    "\n",
    "X_test_2, y_true = prepare_X_y_test(data_url)"
   ]
  },
  {
   "cell_type": "code",
   "execution_count": 7,
   "metadata": {},
   "outputs": [
    {
     "data": {
      "text/plain": [
       "(1819, 10)"
      ]
     },
     "execution_count": 7,
     "metadata": {},
     "output_type": "execute_result"
    }
   ],
   "source": [
    "X_test_2.shape"
   ]
  },
  {
   "cell_type": "code",
   "execution_count": 8,
   "metadata": {},
   "outputs": [],
   "source": [
    "y_pred = model.predict(X_test_2)"
   ]
  },
  {
   "cell_type": "code",
   "execution_count": 9,
   "metadata": {},
   "outputs": [
    {
     "data": {
      "text/plain": [
       "(array([0, 1, 0, ..., 0, 0, 0]), array([0, 1, 0, ..., 0, 0, 0]))"
      ]
     },
     "execution_count": 9,
     "metadata": {},
     "output_type": "execute_result"
    }
   ],
   "source": [
    "import numpy as np\n",
    " \n",
    "y_pred, np.array(y_true)"
   ]
  },
  {
   "cell_type": "code",
   "execution_count": 10,
   "metadata": {},
   "outputs": [
    {
     "data": {
      "text/plain": [
       "{'accuracy': 0.99, 'precision': 0.99, 'recall': 0.99}"
      ]
     },
     "execution_count": 10,
     "metadata": {},
     "output_type": "execute_result"
    }
   ],
   "source": [
    "run_metrics = get_metrics(np.array(y_true), y_pred)\n",
    "run_metrics"
   ]
  },
  {
   "cell_type": "markdown",
   "metadata": {},
   "source": [
    "### MlFlow Configuration\n",
    "Let's start our MlFlow configuration for the MlOps"
   ]
  },
  {
   "cell_type": "code",
   "execution_count": 11,
   "metadata": {},
   "outputs": [],
   "source": [
    "def create_experiment(experiment_name, run_name, run_metrics, model, confusion_matrix_path = None, \n",
    "                      roc_auc_plot_path = None, run_params= None):\n",
    "    import mlflow\n",
    "    mlflow.set_tracking_uri(\"http://localhost:5001\")\n",
    "\n",
    "\n",
    "    mlflow.set_experiment(experiment_name)\n",
    "\n",
    "    with mlflow.start_run(run_name=run_name):\n",
    "\n",
    "        if not run_params == None:\n",
    "            for param in run_params:\n",
    "                mlflow.log_param(param, run_params[param])\n",
    "            \n",
    "        for metric in run_metrics:\n",
    "            mlflow.log_metric(metric, run_metrics[metric])\n",
    "        \n",
    "        if not confusion_matrix_path == None:\n",
    "            mlflow.log_artifact(confusion_matrix_path, 'confusion_matrix')\n",
    "\n",
    "        \n",
    "        if not roc_auc_plot_path == None:\n",
    "            mlflow.log_artifact(roc_auc_plot_path, \"roc_auc_plot\")\n",
    "\n",
    "        mlflow.set_tag(\"tag1\", \"Rice Classifier\")\n",
    "        mlflow.set_tags({\"tag2\" : \"Random Forest\", \"tag3\" : \"Binary Classification\"})\n",
    "        mlflow.sklearn.log_model(model, \"model\", registered_model_name= \"rice-classifier\")\n",
    "\n",
    "    print('Run - %s is logged to Experiment - %s' %(run_name, experiment_name))"
   ]
  },
  {
   "cell_type": "markdown",
   "metadata": {},
   "source": [
    "### Start MLFlow Server\n",
    "Run this code in command line:\n",
    "`mlflow server --backend-store-uri sqlite:///mlflow.db --default-artifact-root ./artifacts --host 0.0.0.0 --port 5001`"
   ]
  },
  {
   "cell_type": "markdown",
   "metadata": {},
   "source": [
    "#### Excecute the create_experiment function and log experiment"
   ]
  },
  {
   "cell_type": "code",
   "execution_count": 12,
   "metadata": {},
   "outputs": [
    {
     "name": "stderr",
     "output_type": "stream",
     "text": [
      "2024/04/23 09:25:27 INFO mlflow.tracking.fluent: Experiment with name 'rice_classifier_new_23-04-24' does not exist. Creating a new experiment.\n",
      "/home/mjanuadi/anaconda3/envs/image-dl/lib/python3.9/site-packages/_distutils_hack/__init__.py:33: UserWarning: Setuptools is replacing distutils.\n",
      "  warnings.warn(\"Setuptools is replacing distutils.\")\n",
      "Successfully registered model 'rice-classifier'.\n",
      "2024/04/23 09:25:28 INFO mlflow.store.model_registry.abstract_store: Waiting up to 300 seconds for model version to finish creation. Model name: rice-classifier, version 1\n"
     ]
    },
    {
     "name": "stdout",
     "output_type": "stream",
     "text": [
      "Run - rice_classifier_new_23-04-24 is logged to Experiment - rice_classifier_new_23-04-24\n"
     ]
    },
    {
     "name": "stderr",
     "output_type": "stream",
     "text": [
      "Created version '1' of model 'rice-classifier'.\n"
     ]
    }
   ],
   "source": [
    "from datetime import datetime\n",
    "experiment_name = \"rice_classifier_new_\" + str(datetime.now().strftime(\"%d-%m-%y\"))\n",
    "run_name= \"rice_classifier_new_\"+ str(datetime.now().strftime(\"%d-%m-%y\"))\n",
    "create_experiment(experiment_name, run_name, run_metrics, model)"
   ]
  },
  {
   "cell_type": "markdown",
   "metadata": {},
   "source": [
    "### Fetching an MlFlow Model from the Model Registry\n",
    "\n",
    "#### Transitioning an MlFlow Model's stage"
   ]
  },
  {
   "cell_type": "code",
   "execution_count": 13,
   "metadata": {},
   "outputs": [
    {
     "name": "stderr",
     "output_type": "stream",
     "text": [
      "/tmp/ipykernel_326/1369766195.py:3: FutureWarning: ``mlflow.tracking.client.MlflowClient.transition_model_version_stage`` is deprecated since 2.9.0. Model registry stages will be removed in a future major release. To learn more about the deprecation of model registry stages, see our migration guide here: https://mlflow.org/docs/2.12.1/model-registry.html#migrating-from-stages\n",
      "  client.transition_model_version_stage(\n"
     ]
    },
    {
     "data": {
      "text/plain": [
       "<ModelVersion: aliases=[], creation_timestamp=1713839128826, current_stage='Production', description='', last_updated_timestamp=1713839167460, name='rice-classifier', run_id='4861b4e277c7444da82baee0030d1cdc', run_link='', source='/home/mjanuadi/artifacts/1/4861b4e277c7444da82baee0030d1cdc/artifacts/model', status='READY', status_message='', tags={}, user_id='', version='1'>"
      ]
     },
     "execution_count": 13,
     "metadata": {},
     "output_type": "execute_result"
    }
   ],
   "source": [
    "import mlflow\n",
    "client = mlflow.tracking.MlflowClient()\n",
    "client.transition_model_version_stage(\n",
    "    name=\"rice-classifier\",\n",
    "    version=1,\n",
    "    stage = \"Production\"\n",
    ")"
   ]
  },
  {
   "cell_type": "markdown",
   "metadata": {},
   "source": [
    "#### Model Deployment"
   ]
  },
  {
   "cell_type": "code",
   "execution_count": 14,
   "metadata": {},
   "outputs": [],
   "source": [
    "import mlflow\n",
    "mlflow.set_tracking_uri('http://localhost:5001')\n"
   ]
  },
  {
   "cell_type": "markdown",
   "metadata": {},
   "source": [
    "#### Load our model from Model Registry\n",
    "Load our model using MlFlow Pyfunc\n"
   ]
  },
  {
   "cell_type": "code",
   "execution_count": 15,
   "metadata": {},
   "outputs": [],
   "source": [
    "import mlflow\n",
    "logged_model = 'runs:/4861b4e277c7444da82baee0030d1cdc/model'\n",
    "\n",
    "loaded_model = mlflow.pyfunc.load_model(logged_model)\n"
   ]
  },
  {
   "cell_type": "code",
   "execution_count": 16,
   "metadata": {},
   "outputs": [
    {
     "data": {
      "text/plain": [
       "mlflow.pyfunc.loaded_model:\n",
       "  artifact_path: model\n",
       "  flavor: mlflow.sklearn\n",
       "  run_id: 4861b4e277c7444da82baee0030d1cdc"
      ]
     },
     "execution_count": 16,
     "metadata": {},
     "output_type": "execute_result"
    }
   ],
   "source": [
    "loaded_model"
   ]
  },
  {
   "cell_type": "markdown",
   "metadata": {},
   "source": [
    "#### Let's Predict The Dataset"
   ]
  },
  {
   "cell_type": "code",
   "execution_count": 23,
   "metadata": {},
   "outputs": [
    {
     "data": {
      "text/plain": [
       "array([0, 1, 0, ..., 0, 0, 0])"
      ]
     },
     "execution_count": 23,
     "metadata": {},
     "output_type": "execute_result"
    }
   ],
   "source": [
    "import pandas as pd\n",
    "y_pred_mlflow =  loaded_model.predict(pd.DataFrame(X_test_2))\n",
    "y_pred_mlflow"
   ]
  },
  {
   "cell_type": "markdown",
   "metadata": {},
   "source": [
    "### Let's serving our model"
   ]
  },
  {
   "cell_type": "code",
   "execution_count": 24,
   "metadata": {},
   "outputs": [],
   "source": [
    "import mlflow\n",
    "\n",
    "mlflow.set_tracking_uri('http://localhost:5001')"
   ]
  },
  {
   "cell_type": "markdown",
   "metadata": {},
   "source": [
    "#### Then Run this code\n",
    "`mlflow models serve --model-uri models:/rice-classifier/Production -p 1234 --no-conda`\n",
    "\n",
    "Model is served!!  \n",
    "\n",
    "Listening at: http://127.0.0.1:1234 (3596)"
   ]
  },
  {
   "cell_type": "markdown",
   "metadata": {},
   "source": [
    "#### Let's do the prediction"
   ]
  },
  {
   "cell_type": "markdown",
   "metadata": {},
   "source": [
    "#### Online Prediction\n",
    "\n",
    "An online prediction is a synchronous request. It means that when you make a prediction, you expect an immediate response."
   ]
  },
  {
   "cell_type": "code",
   "execution_count": 25,
   "metadata": {},
   "outputs": [
    {
     "name": "stdout",
     "output_type": "stream",
     "text": [
      "{\"predictions\": [1]}\n"
     ]
    }
   ],
   "source": [
    "import requests\n",
    "\n",
    "\n",
    "inference_request = {\n",
    "    \"dataframe_records\" : [[3050, 77.5, 53.04, 0.745, 3135, 63.1, 0.76, 211.2, 0.86, 1.45]]\n",
    "}\n",
    "\n",
    "endpoint = \"http://localhost:1234/invocations\"\n",
    "\n",
    "response = requests.post(endpoint, json = inference_request)\n",
    "\n",
    "print(response.text)"
   ]
  },
  {
   "cell_type": "markdown",
   "metadata": {},
   "source": [
    "#### Batch Prediction\n",
    "\n",
    "Batch prediction is a process used in machine learning to generate predictions for a large dataset. Here are the key points:\n",
    "\n",
    "Asynchronous Request: Unlike online prediction (which is synchronous), batch prediction is an asynchronous request. It doesn’t require deploying the model to an endpoint"
   ]
  },
  {
   "cell_type": "code",
   "execution_count": 26,
   "metadata": {},
   "outputs": [
    {
     "data": {
      "text/html": [
       "<div>\n",
       "<style scoped>\n",
       "    .dataframe tbody tr th:only-of-type {\n",
       "        vertical-align: middle;\n",
       "    }\n",
       "\n",
       "    .dataframe tbody tr th {\n",
       "        vertical-align: top;\n",
       "    }\n",
       "\n",
       "    .dataframe thead th {\n",
       "        text-align: right;\n",
       "    }\n",
       "</style>\n",
       "<table border=\"1\" class=\"dataframe\">\n",
       "  <thead>\n",
       "    <tr style=\"text-align: right;\">\n",
       "      <th></th>\n",
       "      <th>Area</th>\n",
       "      <th>MajorAxisLength</th>\n",
       "      <th>MinorAxisLength</th>\n",
       "      <th>Eccentricity</th>\n",
       "      <th>ConvexArea</th>\n",
       "      <th>EquivDiameter</th>\n",
       "      <th>Extent</th>\n",
       "      <th>Perimeter</th>\n",
       "      <th>Roundness</th>\n",
       "      <th>AspectRation</th>\n",
       "    </tr>\n",
       "  </thead>\n",
       "  <tbody>\n",
       "    <tr>\n",
       "      <th>18056</th>\n",
       "      <td>9429</td>\n",
       "      <td>174.671378</td>\n",
       "      <td>69.661360</td>\n",
       "      <td>0.917032</td>\n",
       "      <td>9752</td>\n",
       "      <td>109.569045</td>\n",
       "      <td>0.644938</td>\n",
       "      <td>406.975</td>\n",
       "      <td>0.715385</td>\n",
       "      <td>2.507436</td>\n",
       "    </tr>\n",
       "    <tr>\n",
       "      <th>3256</th>\n",
       "      <td>5842</td>\n",
       "      <td>145.807572</td>\n",
       "      <td>51.673280</td>\n",
       "      <td>0.935096</td>\n",
       "      <td>6020</td>\n",
       "      <td>86.245379</td>\n",
       "      <td>0.641978</td>\n",
       "      <td>330.790</td>\n",
       "      <td>0.670914</td>\n",
       "      <td>2.821721</td>\n",
       "    </tr>\n",
       "    <tr>\n",
       "      <th>17106</th>\n",
       "      <td>8359</td>\n",
       "      <td>158.012446</td>\n",
       "      <td>67.848264</td>\n",
       "      <td>0.903121</td>\n",
       "      <td>8540</td>\n",
       "      <td>103.164962</td>\n",
       "      <td>0.666268</td>\n",
       "      <td>370.413</td>\n",
       "      <td>0.765582</td>\n",
       "      <td>2.328909</td>\n",
       "    </tr>\n",
       "    <tr>\n",
       "      <th>9810</th>\n",
       "      <td>6493</td>\n",
       "      <td>167.571643</td>\n",
       "      <td>50.974529</td>\n",
       "      <td>0.952610</td>\n",
       "      <td>6737</td>\n",
       "      <td>90.923838</td>\n",
       "      <td>0.796687</td>\n",
       "      <td>366.921</td>\n",
       "      <td>0.606052</td>\n",
       "      <td>3.287360</td>\n",
       "    </tr>\n",
       "    <tr>\n",
       "      <th>9563</th>\n",
       "      <td>5594</td>\n",
       "      <td>153.172203</td>\n",
       "      <td>47.071526</td>\n",
       "      <td>0.951609</td>\n",
       "      <td>5770</td>\n",
       "      <td>84.394917</td>\n",
       "      <td>0.496847</td>\n",
       "      <td>337.176</td>\n",
       "      <td>0.618328</td>\n",
       "      <td>3.254031</td>\n",
       "    </tr>\n",
       "    <tr>\n",
       "      <th>...</th>\n",
       "      <td>...</td>\n",
       "      <td>...</td>\n",
       "      <td>...</td>\n",
       "      <td>...</td>\n",
       "      <td>...</td>\n",
       "      <td>...</td>\n",
       "      <td>...</td>\n",
       "      <td>...</td>\n",
       "      <td>...</td>\n",
       "      <td>...</td>\n",
       "    </tr>\n",
       "    <tr>\n",
       "      <th>1983</th>\n",
       "      <td>6150</td>\n",
       "      <td>148.149483</td>\n",
       "      <td>54.276713</td>\n",
       "      <td>0.930471</td>\n",
       "      <td>6341</td>\n",
       "      <td>88.489678</td>\n",
       "      <td>0.533068</td>\n",
       "      <td>337.755</td>\n",
       "      <td>0.677456</td>\n",
       "      <td>2.729522</td>\n",
       "    </tr>\n",
       "    <tr>\n",
       "      <th>15769</th>\n",
       "      <td>8334</td>\n",
       "      <td>156.418697</td>\n",
       "      <td>69.190272</td>\n",
       "      <td>0.896847</td>\n",
       "      <td>8670</td>\n",
       "      <td>103.010574</td>\n",
       "      <td>0.576588</td>\n",
       "      <td>375.312</td>\n",
       "      <td>0.743496</td>\n",
       "      <td>2.260704</td>\n",
       "    </tr>\n",
       "    <tr>\n",
       "      <th>7816</th>\n",
       "      <td>8393</td>\n",
       "      <td>147.020754</td>\n",
       "      <td>73.865291</td>\n",
       "      <td>0.864627</td>\n",
       "      <td>8663</td>\n",
       "      <td>103.374559</td>\n",
       "      <td>0.612807</td>\n",
       "      <td>373.304</td>\n",
       "      <td>0.756836</td>\n",
       "      <td>1.990390</td>\n",
       "    </tr>\n",
       "    <tr>\n",
       "      <th>15626</th>\n",
       "      <td>9817</td>\n",
       "      <td>168.580801</td>\n",
       "      <td>74.765826</td>\n",
       "      <td>0.896274</td>\n",
       "      <td>10018</td>\n",
       "      <td>111.800682</td>\n",
       "      <td>0.634009</td>\n",
       "      <td>399.847</td>\n",
       "      <td>0.771616</td>\n",
       "      <td>2.254784</td>\n",
       "    </tr>\n",
       "    <tr>\n",
       "      <th>13707</th>\n",
       "      <td>9074</td>\n",
       "      <td>159.942069</td>\n",
       "      <td>73.011869</td>\n",
       "      <td>0.889729</td>\n",
       "      <td>9312</td>\n",
       "      <td>107.486630</td>\n",
       "      <td>0.621422</td>\n",
       "      <td>381.868</td>\n",
       "      <td>0.781956</td>\n",
       "      <td>2.190631</td>\n",
       "    </tr>\n",
       "  </tbody>\n",
       "</table>\n",
       "<p>1819 rows × 10 columns</p>\n",
       "</div>"
      ],
      "text/plain": [
       "       Area  MajorAxisLength  MinorAxisLength  Eccentricity  ConvexArea  \\\n",
       "18056  9429       174.671378        69.661360      0.917032        9752   \n",
       "3256   5842       145.807572        51.673280      0.935096        6020   \n",
       "17106  8359       158.012446        67.848264      0.903121        8540   \n",
       "9810   6493       167.571643        50.974529      0.952610        6737   \n",
       "9563   5594       153.172203        47.071526      0.951609        5770   \n",
       "...     ...              ...              ...           ...         ...   \n",
       "1983   6150       148.149483        54.276713      0.930471        6341   \n",
       "15769  8334       156.418697        69.190272      0.896847        8670   \n",
       "7816   8393       147.020754        73.865291      0.864627        8663   \n",
       "15626  9817       168.580801        74.765826      0.896274       10018   \n",
       "13707  9074       159.942069        73.011869      0.889729        9312   \n",
       "\n",
       "       EquivDiameter    Extent  Perimeter  Roundness  AspectRation  \n",
       "18056     109.569045  0.644938    406.975   0.715385      2.507436  \n",
       "3256       86.245379  0.641978    330.790   0.670914      2.821721  \n",
       "17106     103.164962  0.666268    370.413   0.765582      2.328909  \n",
       "9810       90.923838  0.796687    366.921   0.606052      3.287360  \n",
       "9563       84.394917  0.496847    337.176   0.618328      3.254031  \n",
       "...              ...       ...        ...        ...           ...  \n",
       "1983       88.489678  0.533068    337.755   0.677456      2.729522  \n",
       "15769     103.010574  0.576588    375.312   0.743496      2.260704  \n",
       "7816      103.374559  0.612807    373.304   0.756836      1.990390  \n",
       "15626     111.800682  0.634009    399.847   0.771616      2.254784  \n",
       "13707     107.486630  0.621422    381.868   0.781956      2.190631  \n",
       "\n",
       "[1819 rows x 10 columns]"
      ]
     },
     "execution_count": 26,
     "metadata": {},
     "output_type": "execute_result"
    }
   ],
   "source": [
    "X_test_2"
   ]
  },
  {
   "cell_type": "code",
   "execution_count": 28,
   "metadata": {},
   "outputs": [
    {
     "name": "stdout",
     "output_type": "stream",
     "text": [
      "{\"predictions\": [0, 1, 0, 1, 1, 1, 1, 1, 0, 1, 1, 1, 1, 0, 0, 0, 1, 0, 1, 1, 1, 1, 0, 0, 1, 0, 1, 1, 0, 1, 0, 1, 0, 0, 0, 1, 1, 1, 0, 1, 1, 0, 1, 0, 1, 1, 1, 0, 0, 0, 1, 1, 0, 1, 0, 0, 0, 0, 0, 1, 0, 1, 0, 1, 0, 1, 1, 1, 0, 0, 1, 1, 0, 1, 1, 0, 0, 0, 0, 1, 1, 1, 1, 1, 0, 1, 0, 0, 1, 0, 0, 1, 0, 0, 1, 0, 0, 1, 0, 0, 1, 0, 1, 1, 0, 0, 1, 1, 1, 0, 0, 0, 1, 1, 0, 0, 0, 0, 0, 1, 1, 1, 1, 0, 1, 1, 0, 1, 0, 1, 1, 1, 1, 1, 0, 1, 1, 1, 0, 0, 1, 0, 1, 1, 0, 1, 1, 1, 1, 1, 1, 1, 1, 1, 1, 0, 1, 1, 1, 0, 0, 1, 1, 1, 1, 1, 0, 1, 0, 0, 0, 1, 0, 1, 0, 1, 0, 0, 1, 0, 1, 0, 0, 1, 1, 0, 0, 1, 0, 0, 1, 0, 1, 1, 0, 1, 1, 0, 0, 1, 0, 0, 1, 0, 1, 0, 1, 0, 1, 0, 0, 1, 1, 1, 1, 0, 0, 0, 0, 1, 0, 1, 1, 0, 0, 1, 1, 1, 1, 1, 0, 1, 1, 0, 1, 1, 1, 1, 0, 1, 0, 0, 1, 1, 0, 0, 1, 1, 0, 0, 1, 1, 0, 1, 0, 0, 1, 1, 0, 0, 0, 1, 1, 1, 1, 1, 1, 0, 1, 1, 0, 0, 1, 1, 0, 1, 0, 0, 1, 0, 1, 0, 0, 1, 1, 0, 1, 1, 1, 0, 1, 1, 1, 0, 0, 0, 0, 0, 1, 1, 1, 1, 1, 1, 1, 1, 0, 0, 1, 1, 0, 0, 0, 1, 0, 0, 0, 1, 1, 0, 1, 1, 0, 1, 1, 0, 0, 1, 0, 1, 1, 0, 0, 0, 1, 1, 0, 1, 1, 1, 0, 1, 0, 0, 1, 0, 1, 1, 1, 1, 1, 1, 0, 1, 1, 0, 0, 0, 0, 0, 1, 0, 1, 0, 0, 1, 1, 1, 1, 0, 0, 0, 1, 0, 1, 0, 0, 1, 0, 1, 1, 1, 1, 0, 0, 0, 1, 1, 1, 1, 0, 0, 0, 0, 1, 0, 1, 1, 1, 1, 1, 0, 0, 1, 1, 1, 1, 1, 0, 1, 1, 1, 0, 1, 0, 1, 0, 1, 1, 0, 1, 1, 0, 0, 0, 1, 0, 0, 0, 1, 1, 0, 1, 1, 1, 1, 1, 1, 0, 1, 1, 0, 0, 0, 1, 0, 0, 0, 1, 1, 1, 1, 0, 1, 1, 0, 1, 1, 1, 1, 1, 1, 1, 0, 0, 1, 0, 1, 0, 1, 1, 0, 0, 0, 0, 0, 1, 1, 1, 0, 0, 0, 1, 1, 0, 0, 1, 1, 0, 1, 0, 0, 0, 1, 1, 1, 1, 0, 1, 0, 1, 1, 1, 0, 0, 1, 0, 1, 0, 1, 0, 0, 1, 1, 1, 0, 0, 1, 0, 0, 1, 1, 1, 0, 1, 1, 1, 0, 1, 0, 1, 0, 0, 1, 1, 1, 1, 0, 1, 0, 1, 1, 0, 1, 1, 0, 0, 0, 1, 1, 1, 1, 0, 0, 0, 0, 0, 1, 1, 0, 1, 1, 1, 1, 0, 1, 0, 0, 0, 0, 1, 0, 1, 1, 1, 1, 1, 0, 1, 1, 1, 1, 1, 1, 1, 0, 1, 1, 1, 1, 1, 1, 1, 1, 1, 0, 1, 1, 1, 1, 1, 0, 0, 0, 0, 1, 1, 1, 1, 1, 0, 1, 1, 1, 1, 0, 1, 1, 1, 1, 1, 1, 1, 1, 1, 0, 0, 0, 1, 0, 1, 0, 1, 0, 0, 0, 1, 1, 0, 0, 1, 1, 1, 0, 1, 0, 0, 1, 0, 1, 0, 1, 0, 1, 1, 0, 0, 1, 0, 1, 1, 0, 1, 0, 0, 0, 1, 1, 0, 1, 0, 1, 1, 0, 0, 1, 1, 0, 1, 1, 1, 0, 1, 1, 0, 1, 1, 1, 1, 0, 0, 0, 0, 1, 0, 0, 1, 1, 1, 0, 1, 0, 1, 1, 1, 0, 0, 1, 1, 1, 0, 1, 1, 0, 1, 1, 1, 1, 1, 0, 1, 1, 1, 0, 0, 1, 1, 0, 0, 1, 1, 0, 0, 0, 0, 0, 0, 0, 0, 0, 1, 1, 1, 1, 1, 0, 1, 0, 0, 0, 0, 1, 1, 0, 1, 1, 1, 0, 1, 1, 0, 0, 1, 0, 1, 0, 0, 1, 1, 0, 1, 0, 0, 0, 0, 0, 1, 1, 1, 1, 1, 1, 0, 1, 1, 0, 1, 1, 0, 1, 1, 1, 0, 1, 1, 0, 1, 0, 1, 0, 1, 0, 1, 1, 1, 1, 1, 1, 0, 1, 0, 0, 1, 1, 1, 0, 1, 1, 1, 1, 1, 0, 1, 1, 0, 1, 0, 1, 0, 1, 0, 0, 1, 1, 0, 0, 0, 0, 0, 1, 0, 1, 1, 0, 0, 0, 1, 0, 1, 1, 1, 0, 1, 1, 1, 0, 0, 0, 0, 0, 1, 0, 0, 1, 1, 0, 0, 0, 0, 1, 0, 1, 0, 0, 0, 1, 0, 0, 1, 1, 0, 0, 0, 1, 1, 1, 1, 1, 1, 1, 1, 1, 0, 0, 0, 0, 1, 0, 0, 0, 0, 0, 1, 0, 0, 0, 1, 1, 1, 0, 1, 1, 0, 1, 1, 0, 0, 1, 1, 1, 1, 1, 1, 1, 1, 0, 0, 0, 0, 1, 0, 0, 1, 1, 0, 1, 1, 0, 0, 0, 0, 0, 1, 0, 0, 1, 1, 1, 1, 0, 0, 1, 1, 0, 1, 1, 1, 1, 1, 0, 0, 1, 0, 1, 1, 1, 0, 1, 1, 1, 0, 0, 1, 1, 1, 0, 1, 0, 0, 1, 1, 1, 0, 1, 0, 1, 0, 1, 1, 0, 1, 1, 1, 1, 0, 1, 0, 1, 1, 1, 1, 0, 0, 1, 1, 1, 1, 1, 0, 1, 1, 1, 1, 0, 0, 0, 1, 1, 1, 1, 1, 0, 1, 0, 0, 1, 0, 1, 0, 0, 0, 1, 0, 1, 1, 0, 1, 0, 1, 1, 1, 1, 1, 1, 0, 1, 1, 0, 1, 1, 0, 1, 1, 0, 1, 0, 0, 1, 1, 1, 0, 1, 1, 0, 0, 0, 0, 1, 0, 1, 0, 1, 0, 0, 1, 1, 1, 1, 0, 1, 0, 1, 1, 1, 1, 0, 0, 1, 0, 0, 0, 1, 0, 1, 0, 1, 0, 1, 1, 1, 0, 0, 1, 1, 0, 0, 1, 0, 0, 0, 0, 1, 1, 1, 1, 1, 1, 1, 0, 1, 0, 1, 0, 0, 1, 1, 1, 1, 1, 1, 0, 1, 0, 0, 0, 1, 1, 1, 0, 1, 0, 0, 1, 0, 0, 1, 0, 1, 0, 0, 0, 1, 0, 1, 0, 1, 0, 1, 0, 1, 1, 1, 0, 1, 0, 0, 1, 0, 0, 0, 0, 0, 1, 1, 0, 1, 0, 1, 0, 1, 1, 1, 1, 1, 0, 0, 1, 1, 1, 1, 1, 0, 1, 0, 1, 0, 1, 0, 0, 0, 0, 0, 0, 1, 0, 1, 1, 0, 0, 1, 1, 1, 0, 1, 1, 0, 0, 0, 1, 0, 1, 0, 0, 1, 0, 1, 0, 0, 0, 1, 0, 1, 1, 1, 0, 1, 1, 1, 0, 1, 1, 0, 0, 0, 0, 0, 0, 0, 0, 0, 1, 0, 0, 1, 1, 1, 1, 1, 1, 0, 1, 1, 0, 0, 1, 1, 1, 0, 1, 1, 0, 1, 1, 1, 1, 1, 1, 1, 1, 0, 1, 0, 1, 0, 0, 0, 1, 0, 0, 0, 0, 0, 0, 1, 1, 1, 1, 0, 1, 1, 1, 1, 1, 1, 1, 0, 1, 1, 0, 1, 0, 0, 1, 1, 0, 1, 1, 0, 1, 0, 0, 1, 1, 1, 1, 1, 0, 1, 1, 0, 1, 1, 0, 0, 0, 1, 1, 0, 0, 1, 0, 0, 1, 1, 1, 0, 1, 0, 0, 1, 1, 1, 1, 1, 1, 0, 1, 0, 0, 0, 0, 0, 1, 0, 0, 1, 1, 0, 0, 0, 1, 0, 1, 1, 0, 0, 0, 0, 0, 0, 1, 1, 1, 1, 1, 1, 1, 1, 1, 0, 0, 0, 1, 0, 1, 1, 1, 1, 1, 0, 0, 0, 0, 0, 1, 1, 1, 0, 1, 1, 0, 1, 0, 1, 0, 0, 1, 0, 0, 1, 0, 1, 1, 1, 1, 0, 0, 1, 0, 1, 0, 1, 1, 1, 1, 0, 1, 0, 1, 1, 0, 1, 1, 1, 0, 0, 1, 0, 0, 1, 0, 1, 1, 0, 0, 1, 0, 0, 0, 0, 0, 1, 1, 1, 0, 0, 1, 0, 1, 1, 0, 0, 0, 1, 0, 1, 0, 0, 1, 1, 0, 1, 0, 0, 1, 1, 0, 1, 1, 1, 0, 1, 1, 1, 1, 1, 1, 1, 0, 1, 0, 0, 0, 0, 0, 1, 1, 1, 0, 1, 1, 1, 0, 1, 1, 0, 1, 1, 0, 1, 1, 1, 1, 1, 0, 1, 1, 0, 1, 1, 0, 0, 1, 0, 0, 1, 0, 0, 0, 1, 1, 1, 1, 0, 1, 0, 0, 0, 1, 0, 0, 1, 0, 0, 1, 0, 0, 0, 0, 1, 0, 1, 1, 0, 1, 0, 0, 1, 0, 0, 1, 1, 1, 1, 0, 1, 1, 0, 1, 0, 0, 0, 0, 1, 0, 0, 0, 1, 0, 0, 0, 1, 1, 1, 1, 1, 0, 0, 0, 1, 0, 0, 0, 0, 1, 0, 0, 1, 1, 0, 1, 0, 1, 0, 1, 0, 0, 1, 0, 1, 0, 1, 0, 1, 0, 1, 0, 1, 0, 1, 0, 0, 0, 1, 1, 1, 0, 0, 0, 0, 1, 1, 1, 0, 0, 0, 1, 0, 1, 1, 0, 1, 1, 0, 1, 0, 0, 1, 0, 0, 1, 1, 1, 0, 1, 1, 1, 1, 1, 0, 1, 0, 1, 0, 1, 0, 0, 1, 0, 0, 1, 0, 1, 1, 1, 1, 0, 1, 0, 1, 1, 1, 1, 0, 0, 0, 1, 1, 0, 0, 1, 1, 1, 0, 1, 1, 1, 0, 1, 1, 0, 1, 1, 0, 1, 0, 0, 1, 1, 0, 0, 1, 1, 1, 0, 0, 1, 1, 1, 0, 1, 1, 1, 0, 0, 1, 1, 1, 0, 1, 1, 1, 0, 1, 0, 0, 1, 1, 1, 0, 1, 0, 1, 1, 1, 0, 1, 1, 1, 1, 1, 0, 0, 1, 1, 1, 0, 1, 1, 1, 1, 1, 0, 1, 0, 0, 0, 1, 0, 1, 0, 0, 0, 0, 0, 0, 1, 0, 1, 1, 1, 0, 0, 1, 1, 1, 1, 1, 0, 0, 0, 0, 1, 1, 0, 1, 0, 1, 0, 0, 0, 1, 1, 0, 1, 0, 0, 0, 0]}\n"
     ]
    }
   ],
   "source": [
    "lst = X_test_2.values.tolist()\n",
    "\n",
    "inference_request = {\n",
    "    \"dataframe_records\" : lst\n",
    "}\n",
    "\n",
    "endpoint = \"http://localhost:1234/invocations\"\n",
    "\n",
    "response = requests.post(endpoint, json = inference_request)\n",
    "\n",
    "print(response.text)"
   ]
  }
 ],
 "metadata": {
  "kernelspec": {
   "display_name": "image-dl",
   "language": "python",
   "name": "python3"
  },
  "language_info": {
   "codemirror_mode": {
    "name": "ipython",
    "version": 3
   },
   "file_extension": ".py",
   "mimetype": "text/x-python",
   "name": "python",
   "nbconvert_exporter": "python",
   "pygments_lexer": "ipython3",
   "version": "3.9.19"
  }
 },
 "nbformat": 4,
 "nbformat_minor": 2
}
