{
  "cells": [
    {
      "cell_type": "markdown",
      "metadata": {
        "id": "o0Vb2tQ7V0uv"
      },
      "source": [
        "# Rice Classification - Supervised Learning\n",
        "\n",
        "**Introduction**: Rice is a staple food consumed by millions of people worldwide. It comes in various varieties, each with distinct characteristics such as grain size, color, aroma, and cooking properties. Ensuring accurate classification of rice types is essential for quality control, trade, and consumer satisfaction.\n",
        "\n",
        "\n",
        "**Problem Statement**: Our goal is to develop a robust machine learning model that can accurately classify different types of rice based on their visual features. Given datasets of rice grains, the model should predict the correct rice variety.\n",
        "\n",
        "\n",
        "**Method**: Building a model pipeline using sklearn, and find the best model hyperparameter using GridSearchCV\n",
        "\n",
        "\n",
        "**Dataset**: This is a set of data created for rice classification from Kaggle (https://www.kaggle.com/datasets/mssmartypants/rice-type-classification). It is modified dataset from this resource: link Jasmine - 1, Gonen - 0. The explanantion of each features in the dataset are listed below:\n",
        "\n",
        "Sure, here are descriptions for each term:\n",
        "\n",
        "1. **id**: Identifier or unique identifier for each individual data point or sample.\n",
        "2. **Area**: The total area or size of the object or particle being measured.\n",
        "3. **MajorAxisLength**: The length of the major axis of the object, typically the longest dimension.\n",
        "4. **MinorAxisLength**: The length of the minor axis of the object, typically the shortest dimension.\n",
        "5. **Eccentricity**: A measure of how elongated or stretched out the shape of the object is, ranging from 0 (perfectly circular) to 1 (highly elongated).\n",
        "6. **ConvexArea**: The area of the smallest convex polygon that encloses the object.\n",
        "7. **EquivDiameter**: The diameter of a circle with the same area as the object.\n",
        "8. **Extent**: The ratio of the area of the object to the area of the bounding box that encloses it, providing a measure of how much the object fills the bounding box.\n",
        "9. **Perimeter**: The total length of the boundary or perimeter of the object.\n",
        "10. **Roundness**: A measure of how closely the shape of the object resembles a circle, often calculated as the ratio of the area of the object to the area of a circle with the same perimeter.\n",
        "11. **AspectRatio**: The ratio of the length of the major axis to the length of the minor axis, providing a measure of the elongation or orientation of the object.\n",
        "12. **Class**: The category or label assigned to the object, typically used in classification tasks to denote the class or group to which the object belongs. Jasmine - 1, Gonen - 0"
      ]
    },
    {
      "cell_type": "markdown",
      "metadata": {},
      "source": [
        "### Import Library\n",
        "\n",
        "Let's import the required libraries and packages"
      ]
    },
    {
      "cell_type": "code",
      "execution_count": 25,
      "metadata": {
        "id": "1TjVboJJPBQm"
      },
      "outputs": [],
      "source": [
        "import pandas as pd\n",
        "import random\n",
        "import numpy as np\n",
        "from numpy.random import rand\n",
        "from numpy.random import randint\n",
        "import pandas as pd\n",
        "import seaborn as sns\n",
        "import matplotlib.pyplot as plt\n",
        "\n",
        "\n",
        "from sklearn.model_selection import train_test_split, GridSearchCV\n",
        "from sklearn.preprocessing import StandardScaler\n",
        "from sklearn.pipeline import Pipeline\n",
        "from sklearn.ensemble import RandomForestClassifier\n",
        "from sklearn.linear_model import LogisticRegression\n",
        "\n",
        "\n",
        "from sklearn.metrics import accuracy_score\n",
        "from sklearn.metrics import classification_report\n",
        "from sklearn.metrics import confusion_matrix"
      ]
    },
    {
      "cell_type": "markdown",
      "metadata": {},
      "source": [
        "### Import the Datasets and Explore (EDA)\n",
        "\n",
        "Let's import the rice classification dataset downloaded from Kaggle. \n",
        "The descriptions for each column:\n",
        "\n",
        "1. **id**: Identifier or unique identifier for each individual data point or sample.\n",
        "2. **Area**: The total area or size of the object or particle being measured.\n",
        "3. **MajorAxisLength**: The length of the major axis of the object, typically the longest dimension.\n",
        "4. **MinorAxisLength**: The length of the minor axis of the object, typically the shortest dimension.\n",
        "5. **Eccentricity**: A measure of how elongated or stretched out the shape of the object is, ranging from 0 (perfectly circular) to 1 (highly elongated).\n",
        "6. **ConvexArea**: The area of the smallest convex polygon that encloses the object.\n",
        "7. **EquivDiameter**: The diameter of a circle with the same area as the object.\n",
        "8. **Extent**: The ratio of the area of the object to the area of the bounding box that encloses it, providing a measure of how much the object fills the bounding box.\n",
        "9. **Perimeter**: The total length of the boundary or perimeter of the object.\n",
        "10. **Roundness**: A measure of how closely the shape of the object resembles a circle, often calculated as the ratio of the area of the object to the area of a circle with the same perimeter.\n",
        "11. **AspectRatio**: The ratio of the length of the major axis to the length of the minor axis, providing a measure of the elongation or orientation of the object.\n",
        "12. **Class**: The category or label assigned to the object, typically used in classification tasks to denote the class or group to which the object belongs. Jasmine - 1, Gonen - 0"
      ]
    },
    {
      "cell_type": "code",
      "execution_count": 4,
      "metadata": {
        "colab": {
          "base_uri": "https://localhost:8080/",
          "height": 206
        },
        "id": "MVVAe5pzNvh-",
        "outputId": "87d19b36-89e0-4d7c-a64d-61121128bda9"
      },
      "outputs": [
        {
          "data": {
            "text/html": [
              "<div>\n",
              "<style scoped>\n",
              "    .dataframe tbody tr th:only-of-type {\n",
              "        vertical-align: middle;\n",
              "    }\n",
              "\n",
              "    .dataframe tbody tr th {\n",
              "        vertical-align: top;\n",
              "    }\n",
              "\n",
              "    .dataframe thead th {\n",
              "        text-align: right;\n",
              "    }\n",
              "</style>\n",
              "<table border=\"1\" class=\"dataframe\">\n",
              "  <thead>\n",
              "    <tr style=\"text-align: right;\">\n",
              "      <th></th>\n",
              "      <th>id</th>\n",
              "      <th>Area</th>\n",
              "      <th>MajorAxisLength</th>\n",
              "      <th>MinorAxisLength</th>\n",
              "      <th>Eccentricity</th>\n",
              "      <th>ConvexArea</th>\n",
              "      <th>EquivDiameter</th>\n",
              "      <th>Extent</th>\n",
              "      <th>Perimeter</th>\n",
              "      <th>Roundness</th>\n",
              "      <th>AspectRation</th>\n",
              "      <th>Class</th>\n",
              "    </tr>\n",
              "  </thead>\n",
              "  <tbody>\n",
              "    <tr>\n",
              "      <th>0</th>\n",
              "      <td>1</td>\n",
              "      <td>4537</td>\n",
              "      <td>92.229316</td>\n",
              "      <td>64.012769</td>\n",
              "      <td>0.719916</td>\n",
              "      <td>4677</td>\n",
              "      <td>76.004525</td>\n",
              "      <td>0.657536</td>\n",
              "      <td>273.085</td>\n",
              "      <td>0.764510</td>\n",
              "      <td>1.440796</td>\n",
              "      <td>1</td>\n",
              "    </tr>\n",
              "    <tr>\n",
              "      <th>1</th>\n",
              "      <td>2</td>\n",
              "      <td>2872</td>\n",
              "      <td>74.691881</td>\n",
              "      <td>51.400454</td>\n",
              "      <td>0.725553</td>\n",
              "      <td>3015</td>\n",
              "      <td>60.471018</td>\n",
              "      <td>0.713009</td>\n",
              "      <td>208.317</td>\n",
              "      <td>0.831658</td>\n",
              "      <td>1.453137</td>\n",
              "      <td>1</td>\n",
              "    </tr>\n",
              "    <tr>\n",
              "      <th>2</th>\n",
              "      <td>3</td>\n",
              "      <td>3048</td>\n",
              "      <td>76.293164</td>\n",
              "      <td>52.043491</td>\n",
              "      <td>0.731211</td>\n",
              "      <td>3132</td>\n",
              "      <td>62.296341</td>\n",
              "      <td>0.759153</td>\n",
              "      <td>210.012</td>\n",
              "      <td>0.868434</td>\n",
              "      <td>1.465950</td>\n",
              "      <td>1</td>\n",
              "    </tr>\n",
              "    <tr>\n",
              "      <th>3</th>\n",
              "      <td>4</td>\n",
              "      <td>3073</td>\n",
              "      <td>77.033628</td>\n",
              "      <td>51.928487</td>\n",
              "      <td>0.738639</td>\n",
              "      <td>3157</td>\n",
              "      <td>62.551300</td>\n",
              "      <td>0.783529</td>\n",
              "      <td>210.657</td>\n",
              "      <td>0.870203</td>\n",
              "      <td>1.483456</td>\n",
              "      <td>1</td>\n",
              "    </tr>\n",
              "    <tr>\n",
              "      <th>4</th>\n",
              "      <td>5</td>\n",
              "      <td>3693</td>\n",
              "      <td>85.124785</td>\n",
              "      <td>56.374021</td>\n",
              "      <td>0.749282</td>\n",
              "      <td>3802</td>\n",
              "      <td>68.571668</td>\n",
              "      <td>0.769375</td>\n",
              "      <td>230.332</td>\n",
              "      <td>0.874743</td>\n",
              "      <td>1.510000</td>\n",
              "      <td>1</td>\n",
              "    </tr>\n",
              "  </tbody>\n",
              "</table>\n",
              "</div>"
            ],
            "text/plain": [
              "   id  Area  MajorAxisLength  MinorAxisLength  Eccentricity  ConvexArea  \\\n",
              "0   1  4537        92.229316        64.012769      0.719916        4677   \n",
              "1   2  2872        74.691881        51.400454      0.725553        3015   \n",
              "2   3  3048        76.293164        52.043491      0.731211        3132   \n",
              "3   4  3073        77.033628        51.928487      0.738639        3157   \n",
              "4   5  3693        85.124785        56.374021      0.749282        3802   \n",
              "\n",
              "   EquivDiameter    Extent  Perimeter  Roundness  AspectRation  Class  \n",
              "0      76.004525  0.657536    273.085   0.764510      1.440796      1  \n",
              "1      60.471018  0.713009    208.317   0.831658      1.453137      1  \n",
              "2      62.296341  0.759153    210.012   0.868434      1.465950      1  \n",
              "3      62.551300  0.783529    210.657   0.870203      1.483456      1  \n",
              "4      68.571668  0.769375    230.332   0.874743      1.510000      1  "
            ]
          },
          "execution_count": 4,
          "metadata": {},
          "output_type": "execute_result"
        }
      ],
      "source": [
        "# Add datasets\n",
        "dataset = pd.read_csv(\"data/riceClassification.csv\")\n",
        "dataset.head()"
      ]
    },
    {
      "cell_type": "code",
      "execution_count": 5,
      "metadata": {
        "colab": {
          "base_uri": "https://localhost:8080/"
        },
        "id": "tQFb-I0lPdQp",
        "outputId": "d3cbc957-1ee9-4cb8-d403-e38109d34512"
      },
      "outputs": [
        {
          "data": {
            "text/plain": [
              "id                 18185\n",
              "Area               18185\n",
              "MajorAxisLength    18185\n",
              "MinorAxisLength    18185\n",
              "Eccentricity       18185\n",
              "ConvexArea         18185\n",
              "EquivDiameter      18185\n",
              "Extent             18185\n",
              "Perimeter          18185\n",
              "Roundness          18185\n",
              "AspectRation       18185\n",
              "Class              18185\n",
              "dtype: int64"
            ]
          },
          "execution_count": 5,
          "metadata": {},
          "output_type": "execute_result"
        }
      ],
      "source": [
        "dataset.count()"
      ]
    },
    {
      "cell_type": "code",
      "execution_count": 7,
      "metadata": {
        "colab": {
          "base_uri": "https://localhost:8080/",
          "height": 320
        },
        "id": "4LlgWpbGQ5v1",
        "outputId": "dccde600-9ac3-41a8-e300-d1d0fc271cc0"
      },
      "outputs": [
        {
          "data": {
            "text/html": [
              "<div>\n",
              "<style scoped>\n",
              "    .dataframe tbody tr th:only-of-type {\n",
              "        vertical-align: middle;\n",
              "    }\n",
              "\n",
              "    .dataframe tbody tr th {\n",
              "        vertical-align: top;\n",
              "    }\n",
              "\n",
              "    .dataframe thead th {\n",
              "        text-align: right;\n",
              "    }\n",
              "</style>\n",
              "<table border=\"1\" class=\"dataframe\">\n",
              "  <thead>\n",
              "    <tr style=\"text-align: right;\">\n",
              "      <th></th>\n",
              "      <th>id</th>\n",
              "      <th>Area</th>\n",
              "      <th>MajorAxisLength</th>\n",
              "      <th>MinorAxisLength</th>\n",
              "      <th>Eccentricity</th>\n",
              "      <th>ConvexArea</th>\n",
              "      <th>EquivDiameter</th>\n",
              "      <th>Extent</th>\n",
              "      <th>Perimeter</th>\n",
              "      <th>Roundness</th>\n",
              "      <th>AspectRation</th>\n",
              "      <th>Class</th>\n",
              "    </tr>\n",
              "  </thead>\n",
              "  <tbody>\n",
              "    <tr>\n",
              "      <th>count</th>\n",
              "      <td>18185.000000</td>\n",
              "      <td>18185.000000</td>\n",
              "      <td>18185.000000</td>\n",
              "      <td>18185.000000</td>\n",
              "      <td>18185.000000</td>\n",
              "      <td>18185.000000</td>\n",
              "      <td>18185.000000</td>\n",
              "      <td>18185.000000</td>\n",
              "      <td>18185.000000</td>\n",
              "      <td>18185.000000</td>\n",
              "      <td>18185.000000</td>\n",
              "      <td>18185.000000</td>\n",
              "    </tr>\n",
              "    <tr>\n",
              "      <th>mean</th>\n",
              "      <td>9093.000000</td>\n",
              "      <td>7036.492989</td>\n",
              "      <td>151.680754</td>\n",
              "      <td>59.807851</td>\n",
              "      <td>0.915406</td>\n",
              "      <td>7225.817872</td>\n",
              "      <td>94.132952</td>\n",
              "      <td>0.616653</td>\n",
              "      <td>351.606949</td>\n",
              "      <td>0.707998</td>\n",
              "      <td>2.599081</td>\n",
              "      <td>0.549079</td>\n",
              "    </tr>\n",
              "    <tr>\n",
              "      <th>std</th>\n",
              "      <td>5249.701658</td>\n",
              "      <td>1467.197150</td>\n",
              "      <td>12.376402</td>\n",
              "      <td>10.061653</td>\n",
              "      <td>0.030575</td>\n",
              "      <td>1502.006571</td>\n",
              "      <td>9.906250</td>\n",
              "      <td>0.104389</td>\n",
              "      <td>29.500620</td>\n",
              "      <td>0.067310</td>\n",
              "      <td>0.434836</td>\n",
              "      <td>0.497599</td>\n",
              "    </tr>\n",
              "    <tr>\n",
              "      <th>min</th>\n",
              "      <td>1.000000</td>\n",
              "      <td>2522.000000</td>\n",
              "      <td>74.133114</td>\n",
              "      <td>34.409894</td>\n",
              "      <td>0.676647</td>\n",
              "      <td>2579.000000</td>\n",
              "      <td>56.666658</td>\n",
              "      <td>0.383239</td>\n",
              "      <td>197.015000</td>\n",
              "      <td>0.174590</td>\n",
              "      <td>1.358128</td>\n",
              "      <td>0.000000</td>\n",
              "    </tr>\n",
              "    <tr>\n",
              "      <th>25%</th>\n",
              "      <td>4547.000000</td>\n",
              "      <td>5962.000000</td>\n",
              "      <td>145.675910</td>\n",
              "      <td>51.393151</td>\n",
              "      <td>0.891617</td>\n",
              "      <td>6125.000000</td>\n",
              "      <td>87.126656</td>\n",
              "      <td>0.538530</td>\n",
              "      <td>333.990000</td>\n",
              "      <td>0.650962</td>\n",
              "      <td>2.208527</td>\n",
              "      <td>0.000000</td>\n",
              "    </tr>\n",
              "    <tr>\n",
              "      <th>50%</th>\n",
              "      <td>9093.000000</td>\n",
              "      <td>6660.000000</td>\n",
              "      <td>153.883750</td>\n",
              "      <td>55.724288</td>\n",
              "      <td>0.923259</td>\n",
              "      <td>6843.000000</td>\n",
              "      <td>92.085696</td>\n",
              "      <td>0.601194</td>\n",
              "      <td>353.088000</td>\n",
              "      <td>0.701941</td>\n",
              "      <td>2.602966</td>\n",
              "      <td>1.000000</td>\n",
              "    </tr>\n",
              "    <tr>\n",
              "      <th>75%</th>\n",
              "      <td>13639.000000</td>\n",
              "      <td>8423.000000</td>\n",
              "      <td>160.056214</td>\n",
              "      <td>70.156593</td>\n",
              "      <td>0.941372</td>\n",
              "      <td>8645.000000</td>\n",
              "      <td>103.559146</td>\n",
              "      <td>0.695664</td>\n",
              "      <td>373.003000</td>\n",
              "      <td>0.769280</td>\n",
              "      <td>2.964101</td>\n",
              "      <td>1.000000</td>\n",
              "    </tr>\n",
              "    <tr>\n",
              "      <th>max</th>\n",
              "      <td>18185.000000</td>\n",
              "      <td>10210.000000</td>\n",
              "      <td>183.211434</td>\n",
              "      <td>82.550762</td>\n",
              "      <td>0.966774</td>\n",
              "      <td>11008.000000</td>\n",
              "      <td>114.016559</td>\n",
              "      <td>0.886573</td>\n",
              "      <td>508.511000</td>\n",
              "      <td>0.904748</td>\n",
              "      <td>3.911845</td>\n",
              "      <td>1.000000</td>\n",
              "    </tr>\n",
              "  </tbody>\n",
              "</table>\n",
              "</div>"
            ],
            "text/plain": [
              "                 id          Area  MajorAxisLength  MinorAxisLength  \\\n",
              "count  18185.000000  18185.000000     18185.000000     18185.000000   \n",
              "mean    9093.000000   7036.492989       151.680754        59.807851   \n",
              "std     5249.701658   1467.197150        12.376402        10.061653   \n",
              "min        1.000000   2522.000000        74.133114        34.409894   \n",
              "25%     4547.000000   5962.000000       145.675910        51.393151   \n",
              "50%     9093.000000   6660.000000       153.883750        55.724288   \n",
              "75%    13639.000000   8423.000000       160.056214        70.156593   \n",
              "max    18185.000000  10210.000000       183.211434        82.550762   \n",
              "\n",
              "       Eccentricity    ConvexArea  EquivDiameter        Extent     Perimeter  \\\n",
              "count  18185.000000  18185.000000   18185.000000  18185.000000  18185.000000   \n",
              "mean       0.915406   7225.817872      94.132952      0.616653    351.606949   \n",
              "std        0.030575   1502.006571       9.906250      0.104389     29.500620   \n",
              "min        0.676647   2579.000000      56.666658      0.383239    197.015000   \n",
              "25%        0.891617   6125.000000      87.126656      0.538530    333.990000   \n",
              "50%        0.923259   6843.000000      92.085696      0.601194    353.088000   \n",
              "75%        0.941372   8645.000000     103.559146      0.695664    373.003000   \n",
              "max        0.966774  11008.000000     114.016559      0.886573    508.511000   \n",
              "\n",
              "          Roundness  AspectRation         Class  \n",
              "count  18185.000000  18185.000000  18185.000000  \n",
              "mean       0.707998      2.599081      0.549079  \n",
              "std        0.067310      0.434836      0.497599  \n",
              "min        0.174590      1.358128      0.000000  \n",
              "25%        0.650962      2.208527      0.000000  \n",
              "50%        0.701941      2.602966      1.000000  \n",
              "75%        0.769280      2.964101      1.000000  \n",
              "max        0.904748      3.911845      1.000000  "
            ]
          },
          "execution_count": 7,
          "metadata": {},
          "output_type": "execute_result"
        }
      ],
      "source": [
        "dataset.describe()"
      ]
    },
    {
      "cell_type": "code",
      "execution_count": 8,
      "metadata": {
        "colab": {
          "base_uri": "https://localhost:8080/"
        },
        "id": "ToJAPyZGReYS",
        "outputId": "7cddcd49-ea79-4664-b6e9-5485c03e1744"
      },
      "outputs": [
        {
          "data": {
            "text/plain": [
              "id                 0\n",
              "Area               0\n",
              "MajorAxisLength    0\n",
              "MinorAxisLength    0\n",
              "Eccentricity       0\n",
              "ConvexArea         0\n",
              "EquivDiameter      0\n",
              "Extent             0\n",
              "Perimeter          0\n",
              "Roundness          0\n",
              "AspectRation       0\n",
              "Class              0\n",
              "dtype: int64"
            ]
          },
          "execution_count": 8,
          "metadata": {},
          "output_type": "execute_result"
        }
      ],
      "source": [
        "dataset.isnull().sum()"
      ]
    },
    {
      "cell_type": "code",
      "execution_count": 15,
      "metadata": {
        "id": "0CpWd2SyR-rg"
      },
      "outputs": [],
      "source": [
        "def data_preprocess(data, test_size):\n",
        "  X = data.drop(columns =['id', 'Class'])\n",
        "  y = data['Class']\n",
        "  X_train, X_test, y_train, y_test = train_test_split(X, y, test_size = 0.1, random_state=42)\n",
        "  return X_train, X_test, y_train, y_test"
      ]
    },
    {
      "cell_type": "code",
      "execution_count": 16,
      "metadata": {
        "colab": {
          "base_uri": "https://localhost:8080/"
        },
        "id": "BVl4IQmjS5Wh",
        "outputId": "10f359f4-184e-42a9-befa-5d82aa816754"
      },
      "outputs": [
        {
          "name": "stdout",
          "output_type": "stream",
          "text": [
            "(16366, 10) (1819, 10) (16366,) (1819,)\n"
          ]
        }
      ],
      "source": [
        "X_train, X_test, y_train, y_test = data_preprocess(dataset, test_size = 0.1)\n",
        "print(X_train.shape, X_test.shape, y_train.shape, y_test.shape)"
      ]
    },
    {
      "cell_type": "markdown",
      "metadata": {},
      "source": [
        "### Sklearn Pipeline\n",
        "\n",
        "A Scikit-learn (sklearn) pipeline is a powerful tool for streamlining the machine learning workflow. It allows you to combine multiple data processing steps and a machine learning model into a single object. A pipeline simplifies the process of transforming data and training a model by chaining together multiple steps.\n",
        "\n",
        "It ensures that each step is executed in the correct order, avoiding common mistakes like **data leakage**.\n",
        "\n",
        "Let's create pipeline"
      ]
    },
    {
      "cell_type": "markdown",
      "metadata": {},
      "source": [
        "Let's first create a pipeline for Random Forest Model and Logistic Regression"
      ]
    },
    {
      "cell_type": "code",
      "execution_count": 18,
      "metadata": {
        "colab": {
          "base_uri": "https://localhost:8080/"
        },
        "id": "0VpV6NhJTUPH",
        "outputId": "8ea83548-5490-4e52-afd7-e06af1826f83"
      },
      "outputs": [],
      "source": [
        "rf_pipeline = Pipeline([\n",
        "    ('scaler', StandardScaler()),\n",
        "    ('classifier', RandomForestClassifier(random_state=42))\n",
        "])\n",
        "\n",
        "\n",
        "lr_pipeline = Pipeline([\n",
        "    ('scaler', StandardScaler()),  # Feature scaling\n",
        "    ('classifier', LogisticRegression(max_iter=1000, random_state=42))  # Logistic Regression classifier\n",
        "])"
      ]
    },
    {
      "cell_type": "markdown",
      "metadata": {},
      "source": [
        "### Finding Best Hyperparameter - GridSearchCV\n",
        "\n",
        "Machine learning models have parameters that are not learned from the data but are set before training. These are called hyperparameters.Properly chosen hyperparameters significantly impact model performance.\n",
        "\n",
        "Finding the best hyperparameters is crucial for achieving optimal accuracy and generalization.\n",
        "\n",
        "Grid Search CV (Cross-Validation) is a technique used for hyperparameter tuning in machine learning models. It also use the k-fold crossvalidation (cv) to determine the best hyperparameter.\n",
        "\n",
        "\n",
        "Let's create a GridSearchCV"
      ]
    },
    {
      "cell_type": "code",
      "execution_count": 19,
      "metadata": {},
      "outputs": [],
      "source": [
        "# First Defining hyperparameters for tuning\n",
        "\n",
        "param_grid_rf = {\n",
        "    'classifier__n_estimators': [50, 100, 200],# number of tress\n",
        "    'classifier__max_depth': [None, 10, 20]  #Maximum depth of each tree\n",
        " }\n",
        "\n",
        "\n",
        "param_grid_lr = {\n",
        "    'classifier__C': [0.1, 1, 10],  # Inverse regularization strength\n",
        "}"
      ]
    },
    {
      "cell_type": "code",
      "execution_count": 20,
      "metadata": {},
      "outputs": [],
      "source": [
        "# Second, create GridSearchCV\n",
        "# defining the number of cv\n",
        "\n",
        "grid_search_rf = GridSearchCV(estimator = rf_pipeline, param_grid = param_grid_rf, cv = 5, scoring = 'accuracy')\n",
        "\n",
        "grid_search_lr = GridSearchCV(estimator = lr_pipeline, param_grid = param_grid_lr, cv = 5, scoring = 'accuracy')\n"
      ]
    },
    {
      "cell_type": "markdown",
      "metadata": {},
      "source": [
        "### Model Training\n",
        "\n",
        "Train the Random Forest and Logistic Regression using the GridSearchCV. The process takes longer time than the conventional model training."
      ]
    },
    {
      "cell_type": "code",
      "execution_count": 21,
      "metadata": {},
      "outputs": [
        {
          "data": {
            "text/html": [
              "<style>#sk-container-id-1 {color: black;background-color: white;}#sk-container-id-1 pre{padding: 0;}#sk-container-id-1 div.sk-toggleable {background-color: white;}#sk-container-id-1 label.sk-toggleable__label {cursor: pointer;display: block;width: 100%;margin-bottom: 0;padding: 0.3em;box-sizing: border-box;text-align: center;}#sk-container-id-1 label.sk-toggleable__label-arrow:before {content: \"▸\";float: left;margin-right: 0.25em;color: #696969;}#sk-container-id-1 label.sk-toggleable__label-arrow:hover:before {color: black;}#sk-container-id-1 div.sk-estimator:hover label.sk-toggleable__label-arrow:before {color: black;}#sk-container-id-1 div.sk-toggleable__content {max-height: 0;max-width: 0;overflow: hidden;text-align: left;background-color: #f0f8ff;}#sk-container-id-1 div.sk-toggleable__content pre {margin: 0.2em;color: black;border-radius: 0.25em;background-color: #f0f8ff;}#sk-container-id-1 input.sk-toggleable__control:checked~div.sk-toggleable__content {max-height: 200px;max-width: 100%;overflow: auto;}#sk-container-id-1 input.sk-toggleable__control:checked~label.sk-toggleable__label-arrow:before {content: \"▾\";}#sk-container-id-1 div.sk-estimator input.sk-toggleable__control:checked~label.sk-toggleable__label {background-color: #d4ebff;}#sk-container-id-1 div.sk-label input.sk-toggleable__control:checked~label.sk-toggleable__label {background-color: #d4ebff;}#sk-container-id-1 input.sk-hidden--visually {border: 0;clip: rect(1px 1px 1px 1px);clip: rect(1px, 1px, 1px, 1px);height: 1px;margin: -1px;overflow: hidden;padding: 0;position: absolute;width: 1px;}#sk-container-id-1 div.sk-estimator {font-family: monospace;background-color: #f0f8ff;border: 1px dotted black;border-radius: 0.25em;box-sizing: border-box;margin-bottom: 0.5em;}#sk-container-id-1 div.sk-estimator:hover {background-color: #d4ebff;}#sk-container-id-1 div.sk-parallel-item::after {content: \"\";width: 100%;border-bottom: 1px solid gray;flex-grow: 1;}#sk-container-id-1 div.sk-label:hover label.sk-toggleable__label {background-color: #d4ebff;}#sk-container-id-1 div.sk-serial::before {content: \"\";position: absolute;border-left: 1px solid gray;box-sizing: border-box;top: 0;bottom: 0;left: 50%;z-index: 0;}#sk-container-id-1 div.sk-serial {display: flex;flex-direction: column;align-items: center;background-color: white;padding-right: 0.2em;padding-left: 0.2em;position: relative;}#sk-container-id-1 div.sk-item {position: relative;z-index: 1;}#sk-container-id-1 div.sk-parallel {display: flex;align-items: stretch;justify-content: center;background-color: white;position: relative;}#sk-container-id-1 div.sk-item::before, #sk-container-id-1 div.sk-parallel-item::before {content: \"\";position: absolute;border-left: 1px solid gray;box-sizing: border-box;top: 0;bottom: 0;left: 50%;z-index: -1;}#sk-container-id-1 div.sk-parallel-item {display: flex;flex-direction: column;z-index: 1;position: relative;background-color: white;}#sk-container-id-1 div.sk-parallel-item:first-child::after {align-self: flex-end;width: 50%;}#sk-container-id-1 div.sk-parallel-item:last-child::after {align-self: flex-start;width: 50%;}#sk-container-id-1 div.sk-parallel-item:only-child::after {width: 0;}#sk-container-id-1 div.sk-dashed-wrapped {border: 1px dashed gray;margin: 0 0.4em 0.5em 0.4em;box-sizing: border-box;padding-bottom: 0.4em;background-color: white;}#sk-container-id-1 div.sk-label label {font-family: monospace;font-weight: bold;display: inline-block;line-height: 1.2em;}#sk-container-id-1 div.sk-label-container {text-align: center;}#sk-container-id-1 div.sk-container {/* jupyter's `normalize.less` sets `[hidden] { display: none; }` but bootstrap.min.css set `[hidden] { display: none !important; }` so we also need the `!important` here to be able to override the default hidden behavior on the sphinx rendered scikit-learn.org. See: https://github.com/scikit-learn/scikit-learn/issues/21755 */display: inline-block !important;position: relative;}#sk-container-id-1 div.sk-text-repr-fallback {display: none;}</style><div id=\"sk-container-id-1\" class=\"sk-top-container\"><div class=\"sk-text-repr-fallback\"><pre>GridSearchCV(cv=5,\n",
              "             estimator=Pipeline(steps=[(&#x27;scaler&#x27;, StandardScaler()),\n",
              "                                       (&#x27;classifier&#x27;,\n",
              "                                        LogisticRegression(max_iter=1000,\n",
              "                                                           random_state=42))]),\n",
              "             param_grid={&#x27;classifier__C&#x27;: [0.1, 1, 10]}, scoring=&#x27;accuracy&#x27;)</pre><b>In a Jupyter environment, please rerun this cell to show the HTML representation or trust the notebook. <br />On GitHub, the HTML representation is unable to render, please try loading this page with nbviewer.org.</b></div><div class=\"sk-container\" hidden><div class=\"sk-item sk-dashed-wrapped\"><div class=\"sk-label-container\"><div class=\"sk-label sk-toggleable\"><input class=\"sk-toggleable__control sk-hidden--visually\" id=\"sk-estimator-id-1\" type=\"checkbox\" ><label for=\"sk-estimator-id-1\" class=\"sk-toggleable__label sk-toggleable__label-arrow\">GridSearchCV</label><div class=\"sk-toggleable__content\"><pre>GridSearchCV(cv=5,\n",
              "             estimator=Pipeline(steps=[(&#x27;scaler&#x27;, StandardScaler()),\n",
              "                                       (&#x27;classifier&#x27;,\n",
              "                                        LogisticRegression(max_iter=1000,\n",
              "                                                           random_state=42))]),\n",
              "             param_grid={&#x27;classifier__C&#x27;: [0.1, 1, 10]}, scoring=&#x27;accuracy&#x27;)</pre></div></div></div><div class=\"sk-parallel\"><div class=\"sk-parallel-item\"><div class=\"sk-item\"><div class=\"sk-label-container\"><div class=\"sk-label sk-toggleable\"><input class=\"sk-toggleable__control sk-hidden--visually\" id=\"sk-estimator-id-2\" type=\"checkbox\" ><label for=\"sk-estimator-id-2\" class=\"sk-toggleable__label sk-toggleable__label-arrow\">estimator: Pipeline</label><div class=\"sk-toggleable__content\"><pre>Pipeline(steps=[(&#x27;scaler&#x27;, StandardScaler()),\n",
              "                (&#x27;classifier&#x27;,\n",
              "                 LogisticRegression(max_iter=1000, random_state=42))])</pre></div></div></div><div class=\"sk-serial\"><div class=\"sk-item\"><div class=\"sk-serial\"><div class=\"sk-item\"><div class=\"sk-estimator sk-toggleable\"><input class=\"sk-toggleable__control sk-hidden--visually\" id=\"sk-estimator-id-3\" type=\"checkbox\" ><label for=\"sk-estimator-id-3\" class=\"sk-toggleable__label sk-toggleable__label-arrow\">StandardScaler</label><div class=\"sk-toggleable__content\"><pre>StandardScaler()</pre></div></div></div><div class=\"sk-item\"><div class=\"sk-estimator sk-toggleable\"><input class=\"sk-toggleable__control sk-hidden--visually\" id=\"sk-estimator-id-4\" type=\"checkbox\" ><label for=\"sk-estimator-id-4\" class=\"sk-toggleable__label sk-toggleable__label-arrow\">LogisticRegression</label><div class=\"sk-toggleable__content\"><pre>LogisticRegression(max_iter=1000, random_state=42)</pre></div></div></div></div></div></div></div></div></div></div></div></div>"
            ],
            "text/plain": [
              "GridSearchCV(cv=5,\n",
              "             estimator=Pipeline(steps=[('scaler', StandardScaler()),\n",
              "                                       ('classifier',\n",
              "                                        LogisticRegression(max_iter=1000,\n",
              "                                                           random_state=42))]),\n",
              "             param_grid={'classifier__C': [0.1, 1, 10]}, scoring='accuracy')"
            ]
          },
          "execution_count": 21,
          "metadata": {},
          "output_type": "execute_result"
        }
      ],
      "source": [
        "# Let's fitting into X_train and y_train\n",
        "grid_search_rf.fit(X_train, y_train)\n",
        "\n",
        "grid_search_lr.fit(X_train, y_train)"
      ]
    },
    {
      "cell_type": "code",
      "execution_count": 22,
      "metadata": {},
      "outputs": [],
      "source": [
        "# Check the best hyperparameters\n",
        "best_params_rf = grid_search_rf.best_params_\n",
        "\n",
        "best_params_lr = grid_search_lr.best_params_"
      ]
    },
    {
      "cell_type": "code",
      "execution_count": 23,
      "metadata": {},
      "outputs": [],
      "source": [
        "# Choose the best hyperparameter model\n",
        "best_model_rf = grid_search_rf.best_estimator_\n",
        "\n",
        "best_model_lr = grid_search_lr.best_estimator_"
      ]
    },
    {
      "cell_type": "code",
      "execution_count": 24,
      "metadata": {},
      "outputs": [],
      "source": [
        "# Test the best model on X_test\n",
        "\n",
        "y_pred_rf = best_model_rf.predict(X_test)\n",
        "\n",
        "y_pred_lr = best_model_lr.predict(X_test)"
      ]
    },
    {
      "cell_type": "markdown",
      "metadata": {},
      "source": [
        "### Test using new sample dataset"
      ]
    },
    {
      "cell_type": "code",
      "execution_count": 58,
      "metadata": {},
      "outputs": [
        {
          "data": {
            "text/plain": [
              "array([[0., 0., 0., 0., 0., 0., 0., 0., 0., 0.]])"
            ]
          },
          "execution_count": 58,
          "metadata": {},
          "output_type": "execute_result"
        }
      ],
      "source": [
        "class_cat = ['Gonen', 'Jasmine']\n",
        "\n",
        "# Calling the standard scaler\n",
        "scaler = StandardScaler()\n",
        "# scaler.fit(X_train, y_train)\n",
        "\n",
        "num_test = np.array(dataset.drop(columns=['id', 'Class']).iloc[0])\n",
        "num_test = num_test.reshape(1,-1)\n",
        "\n",
        "num_test = scaler.fit_transform(num_test)\n",
        "num_test\n",
        "\n"
      ]
    },
    {
      "cell_type": "code",
      "execution_count": 64,
      "metadata": {},
      "outputs": [
        {
          "name": "stdout",
          "output_type": "stream",
          "text": [
            "predicted Class is Jasmine\n"
          ]
        },
        {
          "name": "stderr",
          "output_type": "stream",
          "text": [
            "/home/mjanuadi/anaconda3/envs/image-dl/lib/python3.9/site-packages/sklearn/base.py:439: UserWarning: X does not have valid feature names, but StandardScaler was fitted with feature names\n",
            "  warnings.warn(\n"
          ]
        }
      ],
      "source": [
        "y_test_num_test = best_model_rf.predict(num_test)\n",
        "\n",
        "print(\"predicted Class is \" + class_cat[int(y_test_num_test)])"
      ]
    },
    {
      "cell_type": "markdown",
      "metadata": {},
      "source": [
        "### Evaluate the Model\n",
        "\n",
        "Let's evaluate the model to see its performance"
      ]
    },
    {
      "cell_type": "code",
      "execution_count": 28,
      "metadata": {},
      "outputs": [
        {
          "name": "stdout",
          "output_type": "stream",
          "text": [
            "Confusion Matrix Best Random Forest Model\n",
            "              precision    recall  f1-score   support\n",
            "\n",
            "           0       0.99      0.98      0.99       820\n",
            "           1       0.99      0.99      0.99       999\n",
            "\n",
            "    accuracy                           0.99      1819\n",
            "   macro avg       0.99      0.99      0.99      1819\n",
            "weighted avg       0.99      0.99      0.99      1819\n",
            "\n"
          ]
        },
        {
          "data": {
            "text/plain": [
              "array([[807,  13],\n",
              "       [  6, 993]])"
            ]
          },
          "execution_count": 28,
          "metadata": {},
          "output_type": "execute_result"
        }
      ],
      "source": [
        "print(\"Confusion Matrix Best Random Forest Model\")\n",
        "print(classification_report(y_test, y_pred_rf))\n",
        "\n",
        "cm_rf = confusion_matrix(y_test, y_pred_rf)\n",
        "\n",
        "cm_rf"
      ]
    },
    {
      "cell_type": "code",
      "execution_count": 29,
      "metadata": {},
      "outputs": [
        {
          "name": "stdout",
          "output_type": "stream",
          "text": [
            "Confusion Matrix Best Logistic Regression Model\n",
            "              precision    recall  f1-score   support\n",
            "\n",
            "           0       0.99      0.98      0.99       820\n",
            "           1       0.99      0.99      0.99       999\n",
            "\n",
            "    accuracy                           0.99      1819\n",
            "   macro avg       0.99      0.99      0.99      1819\n",
            "weighted avg       0.99      0.99      0.99      1819\n",
            "\n"
          ]
        },
        {
          "data": {
            "text/plain": [
              "array([[806,  14],\n",
              "       [  6, 993]])"
            ]
          },
          "execution_count": 29,
          "metadata": {},
          "output_type": "execute_result"
        }
      ],
      "source": [
        "print(\"Confusion Matrix Best Logistic Regression Model\")\n",
        "print(classification_report(y_test, y_pred_lr))\n",
        "\n",
        "cm_lr = confusion_matrix(y_test, y_pred_lr)\n",
        "\n",
        "cm_lr"
      ]
    },
    {
      "cell_type": "code",
      "execution_count": 30,
      "metadata": {
        "colab": {
          "base_uri": "https://localhost:8080/"
        },
        "id": "3GpgKebmWPkL",
        "outputId": "166130c1-1137-4738-9b60-30fe1fba40a7"
      },
      "outputs": [
        {
          "data": {
            "text/plain": [
              "[0, 1]"
            ]
          },
          "execution_count": 30,
          "metadata": {},
          "output_type": "execute_result"
        }
      ],
      "source": [
        "nama_kelas = y_test.unique().tolist()\n",
        "nama_kelas"
      ]
    },
    {
      "cell_type": "code",
      "execution_count": 33,
      "metadata": {
        "colab": {
          "base_uri": "https://localhost:8080/",
          "height": 476
        },
        "id": "REPO9N54W6fD",
        "outputId": "86b69000-1a5c-4b04-a76c-a3a5ecd9f3d5"
      },
      "outputs": [
        {
          "data": {
            "image/png": "[encoded data removed]",
            "text/plain": [
              "<Figure size 640x480 with 2 Axes>"
            ]
          },
          "metadata": {},
          "output_type": "display_data"
        }
      ],
      "source": [
        "cm = confusion_matrix(y_test, y_pred_rf)\n",
        "sns.heatmap(cm, annot=True, fmt='g', xticklabels = nama_kelas, yticklabels = nama_kelas)\n",
        "plt.ylabel('Predicted Class Random Forest', fontsize=13)\n",
        "plt.xlabel('True Class', fontsize=13)\n",
        "plt.title('Confusion Matrix Random Forest')\n",
        "plt.show()"
      ]
    },
    {
      "cell_type": "code",
      "execution_count": 32,
      "metadata": {},
      "outputs": [
        {
          "data": {
            "image/png": "[encoded data removed]",
            "text/plain": [
              "<Figure size 640x480 with 2 Axes>"
            ]
          },
          "metadata": {},
          "output_type": "display_data"
        }
      ],
      "source": [
        "cm = confusion_matrix(y_test, y_pred_lr)\n",
        "sns.heatmap(cm, annot=True, fmt='g', xticklabels = nama_kelas, yticklabels = nama_kelas)\n",
        "plt.ylabel('Predicted Class Logistic Regression', fontsize=13)\n",
        "plt.xlabel('True Class', fontsize=13)\n",
        "plt.title('Confusion Matrix Logistic Regression')\n",
        "plt.show()"
      ]
    },
    {
      "cell_type": "markdown",
      "metadata": {
        "id": "hMbkNWbQXoIo"
      },
      "source": [
        "### Result\n",
        "\n",
        "Random Forest slightly outperforms logistic regression. Therefore, random forest model will be selected"
      ]
    },
    {
      "cell_type": "markdown",
      "metadata": {},
      "source": [
        "### Save Model\n",
        "\n",
        "Let's save our selected model using pickle"
      ]
    },
    {
      "cell_type": "code",
      "execution_count": 37,
      "metadata": {},
      "outputs": [],
      "source": [
        "import pickle\n",
        "pickle.dump(best_model_rf, open('model_selected.pkl', 'wb'))"
      ]
    }
  ],
  "metadata": {
    "colab": {
      "provenance": []
    },
    "kernelspec": {
      "display_name": "Python 3",
      "name": "python3"
    },
    "language_info": {
      "codemirror_mode": {
        "name": "ipython",
        "version": 3
      },
      "file_extension": ".py",
      "mimetype": "text/x-python",
      "name": "python",
      "nbconvert_exporter": "python",
      "pygments_lexer": "ipython3",
      "version": "3.9.19"
    }
  },
  "nbformat": 4,
  "nbformat_minor": 0
}
